{
 "cells": [
  {
   "cell_type": "code",
   "execution_count": 5,
   "metadata": {},
   "outputs": [],
   "source": [
    "class MulLayer:\n",
    "    def __init__(self) -> None:\n",
    "        self.x = None\n",
    "        self.y = None\n",
    "    \n",
    "    def forward(self, x, y):\n",
    "        self.x = x\n",
    "        self.y = y\n",
    "        out = x * y\n",
    "\n",
    "        return out\n",
    "\n",
    "    def backward(self, dout):\n",
    "        # in mul†iplica†ion layer, reverse x to y\n",
    "        dx = dout * self.y\n",
    "        dy = dout * self.x\n",
    "\n",
    "        return dx, dy\n",
    "\n",
    "class AddLayer:\n",
    "    def __init__(self) -> None:\n",
    "        pass\n",
    "\n",
    "    def forward(self, x, y):\n",
    "        out = x + y\n",
    "        return out\n",
    "\n",
    "    def backward(self, dout):\n",
    "        dx = dout * 1\n",
    "        dy = dout * 1\n",
    "        return dx, dy"
   ]
  },
  {
   "cell_type": "code",
   "execution_count": 6,
   "metadata": {},
   "outputs": [
    {
     "name": "stdout",
     "output_type": "stream",
     "text": [
      "200\n",
      "600\n",
      "800\n",
      "880.0000000000001\n",
      "880.0000000000001\n",
      "110.00000000000001 2.2 3.3000000000000003 220.00000000000003 800\n"
     ]
    }
   ],
   "source": [
    "orange = 100\n",
    "orange_num = 2\n",
    "\n",
    "melon = 200\n",
    "melon_num = 3\n",
    "\n",
    "tax = 1.1\n",
    "\n",
    "# layer\n",
    "mul_orange_layer = MulLayer()\n",
    "mul_melon_layer = MulLayer()\n",
    "add_orange_layer = AddLayer()\n",
    "mul_tax_layer = MulLayer()\n",
    "\n",
    "# forward\n",
    "orange_price = mul_orange_layer.forward(orange, orange_num)\n",
    "melon_price = mul_melon_layer.forward(melon, melon_num)\n",
    "all_price = add_orange_layer.forward(orange_price, melon_price)\n",
    "all_price_with_tax = mul_tax_layer.forward(all_price, tax)\n",
    "\n",
    "print(orange_price)\n",
    "print(melon_price)\n",
    "print(all_price)\n",
    "print(all_price_with_tax)\n",
    "\n",
    "# backward\n",
    "dprice = 1\n",
    "dall_price, dtax = mul_tax_layer.backward(dprice)\n",
    "dorange_price, dmelon_price = add_orange_layer.backward(dall_price)\n",
    "dorange, dorange_num = mul_orange_layer.backward(dorange_price)\n",
    "dmelon, dmelon_num = mul_melon_layer.backward(dmelon_price)\n",
    "\n",
    "print(all_price_with_tax)\n",
    "print(dorange_num, dorange, dmelon, dmelon_num, dtax)"
   ]
  },
  {
   "cell_type": "code",
   "execution_count": null,
   "metadata": {},
   "outputs": [],
   "source": []
  }
 ],
 "metadata": {
  "kernelspec": {
   "display_name": "Python 3 (ipykernel)",
   "language": "python",
   "name": "python3"
  },
  "language_info": {
   "codemirror_mode": {
    "name": "ipython",
    "version": 3
   },
   "file_extension": ".py",
   "mimetype": "text/x-python",
   "name": "python",
   "nbconvert_exporter": "python",
   "pygments_lexer": "ipython3",
   "version": "3.9.6"
  }
 },
 "nbformat": 4,
 "nbformat_minor": 4
}
